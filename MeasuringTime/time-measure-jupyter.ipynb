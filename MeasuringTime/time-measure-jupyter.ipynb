{
  "nbformat": 4,
  "nbformat_minor": 0,
  "metadata": {
    "colab": {
      "provenance": [],
      "toc_visible": true
    },
    "kernelspec": {
      "name": "python3",
      "display_name": "Python 3"
    },
    "language_info": {
      "name": "python"
    }
  },
  "cells": [
    {
      "cell_type": "markdown",
      "source": [
        "Najpierw wykonuj poniższy kod, aby zapamiętać definicję funkcji obliczającej funkcję Ackermanna"
      ],
      "metadata": {
        "id": "5ymHFyfKMceK"
      }
    },
    {
      "cell_type": "code",
      "source": [
        "def a(m, n):\n",
        "  next = [0] * (m + 1)\n",
        "  goal = [1] * (m + 1)\n",
        "  goal[m] = -1\n",
        "  value = 0\n",
        "\n",
        "  while next[m] != n + 1:\n",
        "    value = next[0] + 1\n",
        "    transferring = True\n",
        "    m_current = 0\n",
        "\n",
        "    while transferring:\n",
        "      if next[m_current] == goal[m_current]:\n",
        "        goal[m_current] = value\n",
        "      else:\n",
        "        transferring = False\n",
        "      next[m_current] += 1\n",
        "      m_current += 1\n",
        "\n",
        "  return value"
      ],
      "metadata": {
        "id": "9_0TLcq1MbTx"
      },
      "execution_count": null,
      "outputs": []
    },
    {
      "cell_type": "markdown",
      "source": [
        "Za pomocą poniższych komórek zmierzymy średni czas wykonania tej funkcji dla różnych argumentów"
      ],
      "metadata": {
        "id": "hccSMb0KMk6B"
      }
    },
    {
      "cell_type": "code",
      "execution_count": null,
      "metadata": {
        "colab": {
          "base_uri": "https://localhost:8080/"
        },
        "id": "3cNcwvD0MJjI",
        "outputId": "7a88dd06-99d7-4977-c438-f5e1e7572bb7"
      },
      "outputs": [
        {
          "output_type": "stream",
          "name": "stdout",
          "text": [
            "3.19 µs ± 64.7 ns per loop (mean ± std. dev. of 7 runs, 100000 loops each)\n"
          ]
        }
      ],
      "source": [
        "%timeit a(1, 4)"
      ]
    },
    {
      "cell_type": "code",
      "source": [
        "%timeit a(2, 4)"
      ],
      "metadata": {
        "colab": {
          "base_uri": "https://localhost:8080/"
        },
        "id": "tDGXju3wNSb-",
        "outputId": "ae762854-627d-446b-fb07-f2a353d03166"
      },
      "execution_count": null,
      "outputs": [
        {
          "output_type": "stream",
          "name": "stdout",
          "text": [
            "6.82 µs ± 161 ns per loop (mean ± std. dev. of 7 runs, 100000 loops each)\n"
          ]
        }
      ]
    },
    {
      "cell_type": "code",
      "source": [
        "%timeit a(3, 4)"
      ],
      "metadata": {
        "colab": {
          "base_uri": "https://localhost:8080/"
        },
        "id": "MKdBpq8lNoUx",
        "outputId": "5c105590-7363-4159-eb88-bfc5294d82b7"
      },
      "execution_count": null,
      "outputs": [
        {
          "output_type": "stream",
          "name": "stdout",
          "text": [
            "95 µs ± 29.5 µs per loop (mean ± std. dev. of 7 runs, 10000 loops each)\n"
          ]
        }
      ]
    },
    {
      "cell_type": "code",
      "source": [
        "%timeit a(4, 1)"
      ],
      "metadata": {
        "colab": {
          "base_uri": "https://localhost:8080/"
        },
        "id": "IcDjPhXCNrql",
        "outputId": "8b7fa13f-39e0-4800-c9e8-9723fb1ef14b"
      },
      "execution_count": null,
      "outputs": [
        {
          "output_type": "stream",
          "name": "stdout",
          "text": [
            "64 ms ± 18.6 ms per loop (mean ± std. dev. of 7 runs, 10 loops each)\n"
          ]
        }
      ]
    },
    {
      "cell_type": "markdown",
      "source": [
        "Możemy wymusić pojedyncze wykonanie funkcji, aby działało to podobnie do kodu wcześniej pokazywanego w artykule:"
      ],
      "metadata": {
        "id": "Amzq2SuYOC7T"
      }
    },
    {
      "cell_type": "code",
      "source": [
        "%timeit -r 1 a(4, 1)"
      ],
      "metadata": {
        "colab": {
          "base_uri": "https://localhost:8080/"
        },
        "id": "NaCTRiwKOCRQ",
        "outputId": "959a3608-aa7c-4ab5-9c53-3724b9ed733f"
      },
      "execution_count": null,
      "outputs": [
        {
          "output_type": "stream",
          "name": "stdout",
          "text": [
            "41.8 ms ± 0 ns per loop (mean ± std. dev. of 1 run, 10 loops each)\n"
          ]
        }
      ]
    }
  ]
}